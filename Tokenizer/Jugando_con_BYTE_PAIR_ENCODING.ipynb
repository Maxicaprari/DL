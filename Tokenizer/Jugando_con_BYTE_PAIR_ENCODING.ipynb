{
  "cells": [
    {
      "cell_type": "markdown",
      "id": "c47f9339-ad93-4a5a-b323-7b69a9385264",
      "metadata": {
        "id": "c47f9339-ad93-4a5a-b323-7b69a9385264"
      },
      "source": [
        "# JUGANDO CON BYTE PAIR ENCODING"
      ]
    },
    {
      "cell_type": "code",
      "execution_count": null,
      "id": "b87ae00a-cf57-4da4-9536-0e40e13ad0a0",
      "metadata": {
        "id": "b87ae00a-cf57-4da4-9536-0e40e13ad0a0"
      },
      "outputs": [],
      "source": []
    },
    {
      "cell_type": "code",
      "execution_count": null,
      "id": "2cbe2d9d-e260-4ca5-a734-25ced0c58c7c",
      "metadata": {
        "id": "2cbe2d9d-e260-4ca5-a734-25ced0c58c7c"
      },
      "outputs": [],
      "source": []
    },
    {
      "cell_type": "code",
      "execution_count": null,
      "id": "ef006fae-9309-4a88-ba15-1a9f34e4ef4f",
      "metadata": {
        "id": "ef006fae-9309-4a88-ba15-1a9f34e4ef4f"
      },
      "outputs": [],
      "source": [
        "palabra = \"Hola me llamo Máximo\""
      ]
    },
    {
      "cell_type": "code",
      "execution_count": null,
      "id": "a8de9b68-76c6-4d59-97bf-c00120991405",
      "metadata": {
        "id": "a8de9b68-76c6-4d59-97bf-c00120991405",
        "outputId": "00b8be68-8ad2-4d79-afa7-b1c97a750395"
      },
      "outputs": [
        {
          "data": {
            "text/plain": [
              "104"
            ]
          },
          "execution_count": 3,
          "metadata": {},
          "output_type": "execute_result"
        }
      ],
      "source": [
        "ord(\"h\")"
      ]
    },
    {
      "cell_type": "markdown",
      "id": "433717f0-f160-439c-85a5-e60c5ab32972",
      "metadata": {
        "id": "433717f0-f160-439c-85a5-e60c5ab32972"
      },
      "source": [
        "La función ord nos da el unicode code point de cada letra de cada palabra que tenemos. pueden ser letras, signos, pero no palabras, solo pueden tener UN codigo"
      ]
    },
    {
      "cell_type": "code",
      "execution_count": null,
      "id": "45d0960a-d250-48b9-ad13-37f1a28dd261",
      "metadata": {
        "id": "45d0960a-d250-48b9-ad13-37f1a28dd261",
        "outputId": "19b1a432-a01f-40ab-bc36-0f2c24cc4ced"
      },
      "outputs": [
        {
          "data": {
            "text/plain": [
              "[72,\n",
              " 111,\n",
              " 108,\n",
              " 97,\n",
              " 32,\n",
              " 109,\n",
              " 101,\n",
              " 32,\n",
              " 108,\n",
              " 108,\n",
              " 97,\n",
              " 109,\n",
              " 111,\n",
              " 32,\n",
              " 77,\n",
              " 225,\n",
              " 120,\n",
              " 105,\n",
              " 109,\n",
              " 111]"
            ]
          },
          "execution_count": 5,
          "metadata": {},
          "output_type": "execute_result"
        }
      ],
      "source": [
        "[ord(x) for x in palabra]"
      ]
    },
    {
      "cell_type": "code",
      "execution_count": null,
      "id": "4b1625c0-9018-4adc-b194-a261270fb01c",
      "metadata": {
        "id": "4b1625c0-9018-4adc-b194-a261270fb01c",
        "outputId": "bfd993ad-c372-4559-b0eb-56108149c912"
      },
      "outputs": [
        {
          "data": {
            "text/plain": [
              "[72,\n",
              " 111,\n",
              " 108,\n",
              " 97,\n",
              " 32,\n",
              " 109,\n",
              " 101,\n",
              " 32,\n",
              " 108,\n",
              " 108,\n",
              " 97,\n",
              " 109,\n",
              " 111,\n",
              " 32,\n",
              " 77,\n",
              " 195,\n",
              " 161,\n",
              " 120,\n",
              " 105,\n",
              " 109,\n",
              " 111]"
            ]
          },
          "execution_count": 6,
          "metadata": {},
          "output_type": "execute_result"
        }
      ],
      "source": [
        "list(palabra.encode(\"utf-8\"))"
      ]
    },
    {
      "cell_type": "markdown",
      "id": "cfd862a4-3e71-4e68-b8a3-1b90a370014f",
      "metadata": {
        "id": "cfd862a4-3e71-4e68-b8a3-1b90a370014f"
      },
      "source": [
        "# BYTE PAIR ENCODING"
      ]
    },
    {
      "cell_type": "markdown",
      "id": "0a35b5ae-659c-4910-a4aa-d3c623b1baba",
      "metadata": {
        "id": "0a35b5ae-659c-4910-a4aa-d3c623b1baba"
      },
      "source": [
        "![image.png](attachment:b80ce735-ce38-40bf-b092-4d406c5a9672.png)\n"
      ]
    },
    {
      "cell_type": "code",
      "execution_count": null,
      "id": "67ee4861-78fe-429d-9b5a-04e2c4bce9c4",
      "metadata": {
        "id": "67ee4861-78fe-429d-9b5a-04e2c4bce9c4",
        "outputId": "896141e8-9390-4af9-fa85-ecbf12d9c14c"
      },
      "outputs": [
        {
          "name": "stdout",
          "output_type": "stream",
          "text": [
            "Ｕｎｉｃｏｄｅ! 🅤🅝🅘🅒🅞🅓🅔‽ 🇺‌🇳‌🇮‌🇨‌🇴‌🇩‌🇪! 😄 The very name strikes fear and awe into the hearts of programmers worldwide. We all know we ought to “support Unicode” in our software (whatever that means—like using wchar_t for all the strings, right?). But Unicode can be abstruse, and diving into the thousand-page Unicode Standard plus its dozens of supplementary annexes, reports, and notes can be more than a little intimidating. I don’t blame programmers for still finding the whole thing mysterious, even 30 years after Unicode’s inception.\n",
            "-----\n",
            "lenght:  533\n",
            "-----\n",
            "[239, 188, 181, 239, 189, 142, 239, 189, 137, 239, 189, 131, 239, 189, 143, 239, 189, 132, 239, 189, 133, 33, 32, 240, 159, 133, 164, 240, 159, 133, 157, 240, 159, 133, 152, 240, 159, 133, 146, 240, 159, 133, 158, 240, 159, 133, 147, 240, 159, 133, 148, 226, 128, 189, 32, 240, 159, 135, 186, 226, 128, 140, 240, 159, 135, 179, 226, 128, 140, 240, 159, 135, 174, 226, 128, 140, 240, 159, 135, 168, 226, 128, 140, 240, 159, 135, 180, 226, 128, 140, 240, 159, 135, 169, 226, 128, 140, 240, 159, 135, 170, 33, 32, 240, 159, 152, 132, 32, 84, 104, 101, 32, 118, 101, 114, 121, 32, 110, 97, 109, 101, 32, 115, 116, 114, 105, 107, 101, 115, 32, 102, 101, 97, 114, 32, 97, 110, 100, 32, 97, 119, 101, 32, 105, 110, 116, 111, 32, 116, 104, 101, 32, 104, 101, 97, 114, 116, 115, 32, 111, 102, 32, 112, 114, 111, 103, 114, 97, 109, 109, 101, 114, 115, 32, 119, 111, 114, 108, 100, 119, 105, 100, 101, 46, 32, 87, 101, 32, 97, 108, 108, 32, 107, 110, 111, 119, 32, 119, 101, 32, 111, 117, 103, 104, 116, 32, 116, 111, 32, 226, 128, 156, 115, 117, 112, 112, 111, 114, 116, 32, 85, 110, 105, 99, 111, 100, 101, 226, 128, 157, 32, 105, 110, 32, 111, 117, 114, 32, 115, 111, 102, 116, 119, 97, 114, 101, 32, 40, 119, 104, 97, 116, 101, 118, 101, 114, 32, 116, 104, 97, 116, 32, 109, 101, 97, 110, 115, 226, 128, 148, 108, 105, 107, 101, 32, 117, 115, 105, 110, 103, 32, 119, 99, 104, 97, 114, 95, 116, 32, 102, 111, 114, 32, 97, 108, 108, 32, 116, 104, 101, 32, 115, 116, 114, 105, 110, 103, 115, 44, 32, 114, 105, 103, 104, 116, 63, 41, 46, 32, 66, 117, 116, 32, 85, 110, 105, 99, 111, 100, 101, 32, 99, 97, 110, 32, 98, 101, 32, 97, 98, 115, 116, 114, 117, 115, 101, 44, 32, 97, 110, 100, 32, 100, 105, 118, 105, 110, 103, 32, 105, 110, 116, 111, 32, 116, 104, 101, 32, 116, 104, 111, 117, 115, 97, 110, 100, 45, 112, 97, 103, 101, 32, 85, 110, 105, 99, 111, 100, 101, 32, 83, 116, 97, 110, 100, 97, 114, 100, 32, 112, 108, 117, 115, 32, 105, 116, 115, 32, 100, 111, 122, 101, 110, 115, 32, 111, 102, 32, 115, 117, 112, 112, 108, 101, 109, 101, 110, 116, 97, 114, 121, 32, 97, 110, 110, 101, 120, 101, 115, 44, 32, 114, 101, 112, 111, 114, 116, 115, 44, 32, 97, 110, 100, 32, 110, 111, 116, 101, 115, 32, 99, 97, 110, 32, 98, 101, 32, 109, 111, 114, 101, 32, 116, 104, 97, 110, 32, 97, 32, 108, 105, 116, 116, 108, 101, 32, 105, 110, 116, 105, 109, 105, 100, 97, 116, 105, 110, 103, 46, 32, 73, 32, 100, 111, 110, 226, 128, 153, 116, 32, 98, 108, 97, 109, 101, 32, 112, 114, 111, 103, 114, 97, 109, 109, 101, 114, 115, 32, 102, 111, 114, 32, 115, 116, 105, 108, 108, 32, 102, 105, 110, 100, 105, 110, 103, 32, 116, 104, 101, 32, 119, 104, 111, 108, 101, 32, 116, 104, 105, 110, 103, 32, 109, 121, 115, 116, 101, 114, 105, 111, 117, 115, 44, 32, 101, 118, 101, 110, 32, 51, 48, 32, 121, 101, 97, 114, 115, 32, 97, 102, 116, 101, 114, 32, 85, 110, 105, 99, 111, 100, 101, 226, 128, 153, 115, 32, 105, 110, 99, 101, 112, 116, 105, 111, 110, 46]\n",
            "lenght tokens:  616\n"
          ]
        }
      ],
      "source": [
        "# TEXTO: https://www.reedbeta.com/blog/programmers-intro-to-unicode/\n",
        "text = \"Ｕｎｉｃｏｄｅ! 🅤🅝🅘🅒🅞🅓🅔‽ 🇺‌🇳‌🇮‌🇨‌🇴‌🇩‌🇪! 😄 The very name strikes fear and awe into the hearts of programmers worldwide. We all know we ought to “support Unicode” in our software (whatever that means—like using wchar_t for all the strings, right?). But Unicode can be abstruse, and diving into the thousand-page Unicode Standard plus its dozens of supplementary annexes, reports, and notes can be more than a little intimidating. I don’t blame programmers for still finding the whole thing mysterious, even 30 years after Unicode’s inception.\"\n",
        "tokens = text.encode(\"utf-8\")\n",
        "tokens = list(map(int, tokens))\n",
        "print(text)\n",
        "print(\"-----\")\n",
        "print(\"lenght: \", len(text))\n",
        "print(\"-----\")\n",
        "print(tokens)\n",
        "print(\"lenght tokens: \", len(tokens))"
      ]
    },
    {
      "cell_type": "code",
      "execution_count": null,
      "id": "063b0eb8-eadc-4338-9441-259b5115ce26",
      "metadata": {
        "id": "063b0eb8-eadc-4338-9441-259b5115ce26"
      },
      "outputs": [],
      "source": [
        "def get_stats(ids):\n",
        "    counts = {}\n",
        "    for pair in zip(ids, ids[1:]):\n",
        "        counts[pair] = counts.get(pair,0) + 1\n",
        "    return counts\n",
        "stats = get_stats(tokens)\n"
      ]
    },
    {
      "cell_type": "markdown",
      "id": "63a00c07-38a1-46b9-8617-9441a9d41897",
      "metadata": {
        "id": "63a00c07-38a1-46b9-8617-9441a9d41897"
      },
      "source": [
        "**zip(ids, ids[1:])** crea un iterador que genera pares de elementos consecutivos de la lista ids.\n",
        "\n",
        "Por ejemplo, si ids = [1, 2, 3, 4], entonces zip(ids, ids[1:]) generará los pares (1, 2), (2, 3), y (3, 4).\n",
        "\n",
        "pair será cada uno de estos pares en cada iteración del bucle."
      ]
    },
    {
      "cell_type": "markdown",
      "id": "c545c362-5e84-4020-94e6-edf4ac87f7a7",
      "metadata": {
        "id": "c545c362-5e84-4020-94e6-edf4ac87f7a7"
      },
      "source": [
        "**counts.get(pair, 0)** busca el valor asociado con la clave pair en el diccionario counts. Si la clave no existe, devuelve 0.\n",
        "\n",
        "Luego, se incrementa este valor en 1 y se asigna de nuevo al diccionario counts con la clave pair.\n",
        "\n",
        "Esto efectivamente cuenta cuántas veces aparece cada par consecutivo en la lista ids."
      ]
    },
    {
      "cell_type": "code",
      "execution_count": null,
      "id": "67e58051-e4bf-43b2-ae37-23851a115525",
      "metadata": {
        "id": "67e58051-e4bf-43b2-ae37-23851a115525",
        "outputId": "f703461e-297c-4dbe-b113-30858930b1ef"
      },
      "outputs": [
        {
          "name": "stdout",
          "output_type": "stream",
          "text": [
            "{(239, 188): 1, (188, 181): 1, (181, 239): 1, (239, 189): 6, (189, 142): 1, (142, 239): 1, (189, 137): 1, (137, 239): 1, (189, 131): 1, (131, 239): 1, (189, 143): 1, (143, 239): 1, (189, 132): 1, (132, 239): 1, (189, 133): 1, (133, 33): 1, (33, 32): 2, (32, 240): 3, (240, 159): 15, (159, 133): 7, (133, 164): 1, (164, 240): 1, (133, 157): 1, (157, 240): 1, (133, 152): 1, (152, 240): 1, (133, 146): 1, (146, 240): 1, (133, 158): 1, (158, 240): 1, (133, 147): 1, (147, 240): 1, (133, 148): 1, (148, 226): 1, (226, 128): 12, (128, 189): 1, (189, 32): 1, (159, 135): 7, (135, 186): 1, (186, 226): 1, (128, 140): 6, (140, 240): 6, (135, 179): 1, (179, 226): 1, (135, 174): 1, (174, 226): 1, (135, 168): 1, (168, 226): 1, (135, 180): 1, (180, 226): 1, (135, 169): 1, (169, 226): 1, (135, 170): 1, (170, 33): 1, (159, 152): 1, (152, 132): 1, (132, 32): 1, (32, 84): 1, (84, 104): 1, (104, 101): 6, (101, 32): 20, (32, 118): 1, (118, 101): 3, (101, 114): 6, (114, 121): 2, (121, 32): 2, (32, 110): 2, (110, 97): 1, (97, 109): 4, (109, 101): 6, (32, 115): 5, (115, 116): 5, (116, 114): 3, (114, 105): 4, (105, 107): 2, (107, 101): 2, (101, 115): 3, (115, 32): 10, (32, 102): 4, (102, 101): 1, (101, 97): 4, (97, 114): 7, (114, 32): 6, (32, 97): 10, (97, 110): 10, (110, 100): 6, (100, 32): 4, (97, 119): 1, (119, 101): 2, (32, 105): 6, (105, 110): 12, (110, 116): 4, (116, 111): 3, (111, 32): 3, (32, 116): 9, (116, 104): 8, (32, 104): 1, (114, 116): 3, (116, 115): 3, (32, 111): 4, (111, 102): 3, (102, 32): 2, (32, 112): 3, (112, 114): 2, (114, 111): 2, (111, 103): 2, (103, 114): 2, (114, 97): 2, (109, 109): 2, (114, 115): 3, (32, 119): 4, (119, 111): 1, (111, 114): 6, (114, 108): 1, (108, 100): 1, (100, 119): 1, (119, 105): 1, (105, 100): 2, (100, 101): 5, (101, 46): 1, (46, 32): 3, (32, 87): 1, (87, 101): 1, (97, 108): 2, (108, 108): 3, (108, 32): 3, (32, 107): 1, (107, 110): 1, (110, 111): 2, (111, 119): 1, (119, 32): 1, (111, 117): 4, (117, 103): 1, (103, 104): 2, (104, 116): 2, (116, 32): 6, (32, 226): 1, (128, 156): 1, (156, 115): 1, (115, 117): 2, (117, 112): 2, (112, 112): 2, (112, 111): 2, (32, 85): 4, (85, 110): 4, (110, 105): 4, (105, 99): 4, (99, 111): 4, (111, 100): 4, (101, 226): 2, (128, 157): 1, (157, 32): 1, (110, 32): 5, (117, 114): 1, (115, 111): 1, (102, 116): 2, (116, 119): 1, (119, 97): 1, (114, 101): 3, (32, 40): 1, (40, 119): 1, (119, 104): 2, (104, 97): 4, (97, 116): 3, (116, 101): 4, (101, 118): 2, (32, 109): 3, (110, 115): 2, (115, 226): 1, (128, 148): 1, (148, 108): 1, (108, 105): 2, (32, 117): 1, (117, 115): 5, (115, 105): 1, (110, 103): 6, (103, 32): 4, (119, 99): 1, (99, 104): 1, (114, 95): 1, (95, 116): 1, (102, 111): 2, (103, 115): 1, (115, 44): 4, (44, 32): 5, (32, 114): 2, (105, 103): 1, (116, 63): 1, (63, 41): 1, (41, 46): 1, (32, 66): 1, (66, 117): 1, (117, 116): 1, (32, 99): 2, (99, 97): 2, (32, 98): 3, (98, 101): 2, (97, 98): 1, (98, 115): 1, (114, 117): 1, (115, 101): 1, (101, 44): 1, (32, 100): 3, (100, 105): 2, (105, 118): 1, (118, 105): 1, (104, 111): 2, (115, 97): 1, (100, 45): 1, (45, 112): 1, (112, 97): 1, (97, 103): 1, (103, 101): 1, (32, 83): 1, (83, 116): 1, (116, 97): 2, (100, 97): 2, (114, 100): 1, (112, 108): 2, (108, 117): 1, (105, 116): 2, (100, 111): 2, (111, 122): 1, (122, 101): 1, (101, 110): 3, (108, 101): 3, (101, 109): 1, (110, 110): 1, (110, 101): 1, (101, 120): 1, (120, 101): 1, (101, 112): 2, (111, 116): 1, (109, 111): 1, (97, 32): 1, (32, 108): 1, (116, 116): 1, (116, 108): 1, (116, 105): 4, (105, 109): 1, (109, 105): 1, (103, 46): 1, (32, 73): 1, (73, 32): 1, (111, 110): 2, (110, 226): 1, (128, 153): 2, (153, 116): 1, (98, 108): 1, (108, 97): 1, (105, 108): 1, (102, 105): 1, (111, 108): 1, (104, 105): 1, (109, 121): 1, (121, 115): 1, (105, 111): 2, (32, 101): 1, (32, 51): 1, (51, 48): 1, (48, 32): 1, (32, 121): 1, (121, 101): 1, (97, 102): 1, (153, 115): 1, (110, 99): 1, (99, 101): 1, (112, 116): 1, (110, 46): 1}\n"
          ]
        }
      ],
      "source": [
        "print(stats)"
      ]
    },
    {
      "cell_type": "code",
      "execution_count": null,
      "id": "b85ef976-fddc-446a-a879-f615ad142c60",
      "metadata": {
        "id": "b85ef976-fddc-446a-a879-f615ad142c60",
        "outputId": "45340474-880a-4b37-f0d0-317b0039b4b6"
      },
      "outputs": [
        {
          "name": "stdout",
          "output_type": "stream",
          "text": [
            "[(20, (101, 32)), (15, (240, 159)), (12, (226, 128)), (12, (105, 110)), (10, (115, 32)), (10, (97, 110)), (10, (32, 97)), (9, (32, 116)), (8, (116, 104)), (7, (159, 135)), (7, (159, 133)), (7, (97, 114)), (6, (239, 189)), (6, (140, 240)), (6, (128, 140)), (6, (116, 32)), (6, (114, 32)), (6, (111, 114)), (6, (110, 103)), (6, (110, 100)), (6, (109, 101)), (6, (104, 101)), (6, (101, 114)), (6, (32, 105)), (5, (117, 115)), (5, (115, 116)), (5, (110, 32)), (5, (100, 101)), (5, (44, 32)), (5, (32, 115)), (4, (116, 105)), (4, (116, 101)), (4, (115, 44)), (4, (114, 105)), (4, (111, 117)), (4, (111, 100)), (4, (110, 116)), (4, (110, 105)), (4, (105, 99)), (4, (104, 97)), (4, (103, 32)), (4, (101, 97)), (4, (100, 32)), (4, (99, 111)), (4, (97, 109)), (4, (85, 110)), (4, (32, 119)), (4, (32, 111)), (4, (32, 102)), (4, (32, 85)), (3, (118, 101)), (3, (116, 115)), (3, (116, 114)), (3, (116, 111)), (3, (114, 116)), (3, (114, 115)), (3, (114, 101)), (3, (111, 102)), (3, (111, 32)), (3, (108, 108)), (3, (108, 101)), (3, (108, 32)), (3, (101, 115)), (3, (101, 110)), (3, (97, 116)), (3, (46, 32)), (3, (32, 240)), (3, (32, 112)), (3, (32, 109)), (3, (32, 100)), (3, (32, 98)), (2, (128, 153)), (2, (121, 32)), (2, (119, 104)), (2, (119, 101)), (2, (117, 112)), (2, (116, 97)), (2, (115, 117)), (2, (114, 121)), (2, (114, 111)), (2, (114, 97)), (2, (112, 114)), (2, (112, 112)), (2, (112, 111)), (2, (112, 108)), (2, (111, 110)), (2, (111, 103)), (2, (110, 115)), (2, (110, 111)), (2, (109, 109)), (2, (108, 105)), (2, (107, 101)), (2, (105, 116)), (2, (105, 111)), (2, (105, 107)), (2, (105, 100)), (2, (104, 116)), (2, (104, 111)), (2, (103, 114)), (2, (103, 104)), (2, (102, 116)), (2, (102, 111)), (2, (102, 32)), (2, (101, 226)), (2, (101, 118)), (2, (101, 112)), (2, (100, 111)), (2, (100, 105)), (2, (100, 97)), (2, (99, 97)), (2, (98, 101)), (2, (97, 108)), (2, (33, 32)), (2, (32, 114)), (2, (32, 110)), (2, (32, 99)), (1, (239, 188)), (1, (189, 143)), (1, (189, 142)), (1, (189, 137)), (1, (189, 133)), (1, (189, 132)), (1, (189, 131)), (1, (189, 32)), (1, (188, 181)), (1, (186, 226)), (1, (181, 239)), (1, (180, 226)), (1, (179, 226)), (1, (174, 226)), (1, (170, 33)), (1, (169, 226)), (1, (168, 226)), (1, (164, 240)), (1, (159, 152)), (1, (158, 240)), (1, (157, 240)), (1, (157, 32)), (1, (156, 115)), (1, (153, 116)), (1, (153, 115)), (1, (152, 240)), (1, (152, 132)), (1, (148, 226)), (1, (148, 108)), (1, (147, 240)), (1, (146, 240)), (1, (143, 239)), (1, (142, 239)), (1, (137, 239)), (1, (135, 186)), (1, (135, 180)), (1, (135, 179)), (1, (135, 174)), (1, (135, 170)), (1, (135, 169)), (1, (135, 168)), (1, (133, 164)), (1, (133, 158)), (1, (133, 157)), (1, (133, 152)), (1, (133, 148)), (1, (133, 147)), (1, (133, 146)), (1, (133, 33)), (1, (132, 239)), (1, (132, 32)), (1, (131, 239)), (1, (128, 189)), (1, (128, 157)), (1, (128, 156)), (1, (128, 148)), (1, (122, 101)), (1, (121, 115)), (1, (121, 101)), (1, (120, 101)), (1, (119, 111)), (1, (119, 105)), (1, (119, 99)), (1, (119, 97)), (1, (119, 32)), (1, (118, 105)), (1, (117, 116)), (1, (117, 114)), (1, (117, 103)), (1, (116, 119)), (1, (116, 116)), (1, (116, 108)), (1, (116, 63)), (1, (115, 226)), (1, (115, 111)), (1, (115, 105)), (1, (115, 101)), (1, (115, 97)), (1, (114, 117)), (1, (114, 108)), (1, (114, 100)), (1, (114, 95)), (1, (112, 116)), (1, (112, 97)), (1, (111, 122)), (1, (111, 119)), (1, (111, 116)), (1, (111, 108)), (1, (110, 226)), (1, (110, 110)), (1, (110, 101)), (1, (110, 99)), (1, (110, 97)), (1, (110, 46)), (1, (109, 121)), (1, (109, 111)), (1, (109, 105)), (1, (108, 117)), (1, (108, 100)), (1, (108, 97)), (1, (107, 110)), (1, (105, 118)), (1, (105, 109)), (1, (105, 108)), (1, (105, 103)), (1, (104, 105)), (1, (103, 115)), (1, (103, 101)), (1, (103, 46)), (1, (102, 105)), (1, (102, 101)), (1, (101, 120)), (1, (101, 109)), (1, (101, 46)), (1, (101, 44)), (1, (100, 119)), (1, (100, 45)), (1, (99, 104)), (1, (99, 101)), (1, (98, 115)), (1, (98, 108)), (1, (97, 119)), (1, (97, 103)), (1, (97, 102)), (1, (97, 98)), (1, (97, 32)), (1, (95, 116)), (1, (87, 101)), (1, (84, 104)), (1, (83, 116)), (1, (73, 32)), (1, (66, 117)), (1, (63, 41)), (1, (51, 48)), (1, (48, 32)), (1, (45, 112)), (1, (41, 46)), (1, (40, 119)), (1, (32, 226)), (1, (32, 121)), (1, (32, 118)), (1, (32, 117)), (1, (32, 108)), (1, (32, 107)), (1, (32, 104)), (1, (32, 101)), (1, (32, 87)), (1, (32, 84)), (1, (32, 83)), (1, (32, 73)), (1, (32, 66)), (1, (32, 51)), (1, (32, 40))]\n"
          ]
        }
      ],
      "source": [
        "# como obtenemos los pares más comunes\n",
        "\n",
        "print(sorted(((v,k) for k,v in stats.items()), reverse = True))"
      ]
    },
    {
      "cell_type": "code",
      "execution_count": null,
      "id": "ac8745ef-f239-41b3-89b2-07f147556352",
      "metadata": {
        "id": "ac8745ef-f239-41b3-89b2-07f147556352"
      },
      "outputs": [],
      "source": [
        "# Vemos que elpar más comun es 101,32"
      ]
    },
    {
      "cell_type": "code",
      "execution_count": null,
      "id": "46ccaf15-b670-4df4-b178-5862de4c4b65",
      "metadata": {
        "id": "46ccaf15-b670-4df4-b178-5862de4c4b65",
        "outputId": "a1c68074-d9b9-4e08-ac19-0a7dd82940a1"
      },
      "outputs": [
        {
          "data": {
            "text/plain": [
              "(101, 32)"
            ]
          },
          "execution_count": 16,
          "metadata": {},
          "output_type": "execute_result"
        }
      ],
      "source": [
        "top_pair = max(stats, key=stats.get)\n",
        "top_pair"
      ]
    },
    {
      "cell_type": "code",
      "execution_count": null,
      "id": "dc3210e8-0dda-49da-ade8-78375f5e3afe",
      "metadata": {
        "id": "dc3210e8-0dda-49da-ade8-78375f5e3afe"
      },
      "outputs": [],
      "source": [
        "# Necesitamos hacer el merge del top pair:\n",
        "\n",
        "def merge(ids, pair, idx):\n",
        "    newids = []\n",
        "    i = 0\n",
        "    while i < len(ids):\n",
        "        if i < len(ids) -1 and ids[i] == pair[0] and ids[i+1] == pair[1]: ##CONDICION****\n",
        "            newids.append(idx)\n",
        "            i += 2\n",
        "        else:\n",
        "            newids.append(ids[i])\n",
        "            i += 1\n",
        "    return newids\n"
      ]
    },
    {
      "cell_type": "markdown",
      "id": "5e3f01aa-771e-482b-8b79-a475aef491c2",
      "metadata": {
        "id": "5e3f01aa-771e-482b-8b79-a475aef491c2"
      },
      "source": [
        "#CONDICION ***\n",
        "Esta condición verifica tres cosas:\n",
        "\n",
        "Que i no sea el último índice de la lista (i < len(ids) - 1), para evitar un error al acceder a ids[i+1].\n",
        "\n",
        "Que el elemento actual ids[i] sea igual al primer elemento del par (pair[0]).\n",
        "\n",
        "Que el siguiente elemento ids[i+1] sea igual al segundo elemento del par (pair[1])."
      ]
    },
    {
      "cell_type": "code",
      "execution_count": null,
      "id": "7415716f-0194-482a-b4af-ba63deec3cb0",
      "metadata": {
        "id": "7415716f-0194-482a-b4af-ba63deec3cb0",
        "outputId": "26d9b4cb-4388-4862-9b03-c30314ec8f8c"
      },
      "outputs": [
        {
          "name": "stdout",
          "output_type": "stream",
          "text": [
            "[5, 6, 99, 9, 1]\n"
          ]
        }
      ],
      "source": [
        "#EJEMPLO DE LA FUNCION\n",
        "print(merge([5,6,6,7,9,1],(6,7),99))"
      ]
    },
    {
      "cell_type": "code",
      "execution_count": null,
      "id": "d5dfeca8-6ff9-4255-8fda-90eb8e38ec3a",
      "metadata": {
        "id": "d5dfeca8-6ff9-4255-8fda-90eb8e38ec3a",
        "outputId": "51887d69-88c1-4e5c-db35-255cfd31d2b3"
      },
      "outputs": [
        {
          "name": "stdout",
          "output_type": "stream",
          "text": [
            "596\n"
          ]
        }
      ],
      "source": [
        "# AHORA CON NUESTRA LISTA:\n",
        "\n",
        "tokens2 = merge(tokens, top_pair,256)\n",
        "print(len(tokens2))"
      ]
    },
    {
      "cell_type": "markdown",
      "id": "6d75201f-9679-40a1-bb03-f857435e83cc",
      "metadata": {
        "id": "6d75201f-9679-40a1-bb03-f857435e83cc"
      },
      "source": [
        "# AHORA TENEMOS QUE ITERAR ESTA FUNCION"
      ]
    },
    {
      "cell_type": "code",
      "execution_count": null,
      "id": "370c8037-caea-412a-a112-5c59f77ae37a",
      "metadata": {
        "id": "370c8037-caea-412a-a112-5c59f77ae37a",
        "outputId": "3b706992-3c98-415b-e410-d409f464e351"
      },
      "outputs": [
        {
          "name": "stdout",
          "output_type": "stream",
          "text": [
            "merging(101, 32) into a new token256\n",
            "merging(240, 159) into a new token257\n",
            "merging(226, 128) into a new token258\n",
            "merging(105, 110) into a new token259\n",
            "merging(115, 32) into a new token260\n",
            "merging(97, 110) into a new token261\n",
            "merging(116, 104) into a new token262\n",
            "merging(257, 133) into a new token263\n",
            "merging(257, 135) into a new token264\n",
            "merging(97, 114) into a new token265\n",
            "merging(239, 189) into a new token266\n",
            "merging(258, 140) into a new token267\n",
            "merging(267, 264) into a new token268\n",
            "merging(101, 114) into a new token269\n",
            "merging(111, 114) into a new token270\n",
            "merging(116, 32) into a new token271\n",
            "merging(259, 103) into a new token272\n",
            "merging(115, 116) into a new token273\n",
            "merging(261, 100) into a new token274\n",
            "merging(32, 262) into a new token275\n"
          ]
        }
      ],
      "source": [
        "# Definimos el tamaño de nuestro vocabulario final\n",
        "\n",
        "vocab_size = 276\n",
        "num_merges = vocab_size - 256\n",
        "ids = list(tokens)\n",
        "\n",
        "merges = {}\n",
        "for i in range(num_merges):\n",
        "    stats = get_stats(ids)\n",
        "    pair = max(stats, key=stats.get)\n",
        "    idx = 256 + i\n",
        "    print(f\"merging{pair} into a new token{idx}\")\n",
        "    ids = merge(ids,pair,idx)\n",
        "    merges[pair] = idx\n",
        ""
      ]
    },
    {
      "cell_type": "markdown",
      "id": "a7f8da52-7d92-4477-9e94-df73c97e2d42",
      "metadata": {
        "id": "a7f8da52-7d92-4477-9e94-df73c97e2d42"
      },
      "source": [
        "![image.png](attachment:b0bff41a-313f-4a62-86ae-68319848476d.png)"
      ]
    },
    {
      "cell_type": "markdown",
      "id": "8e55315a-696b-4755-a1a8-797df9114633",
      "metadata": {
        "id": "8e55315a-696b-4755-a1a8-797df9114633"
      },
      "source": [
        "# ENCODING"
      ]
    },
    {
      "cell_type": "markdown",
      "id": "91f04bd0-0d6d-4cd6-8964-ecd028e597ec",
      "metadata": {
        "id": "91f04bd0-0d6d-4cd6-8964-ecd028e597ec"
      },
      "source": [
        "Necesitamos hacer el decoding de tokens a strings"
      ]
    },
    {
      "cell_type": "code",
      "execution_count": null,
      "id": "55a0c4b5-84f7-45ee-ac6f-1225ebb2af81",
      "metadata": {
        "id": "55a0c4b5-84f7-45ee-ac6f-1225ebb2af81",
        "outputId": "b7e1750a-0faf-497d-cfca-c3fffa28e9f8"
      },
      "outputs": [
        {
          "name": "stdout",
          "output_type": "stream",
          "text": [
            "b\n"
          ]
        }
      ],
      "source": [
        "vocab = {idx: bytes([idx]) for idx in range (256)} #diccionario que mapea el token con sus bytes\n",
        "for (p0, p1), idx in merges.items():  #.items() itera los elementos de merges\n",
        "    vocab[idx] = vocab[p0] + vocab[p1] #los bytes de idx son un concat de los bytes de sus tokens\n",
        "\n",
        "def decode(ids):\n",
        "    tokens = b\"\".join(vocab[idx] for idx in ids) #funcion para unir los bytes\n",
        "    text = tokens.decode(\"utf-8\", errors=\"replace\")   #decodificamos los bytes\n",
        "    return text\n",
        "print(decode([98]))"
      ]
    },
    {
      "cell_type": "markdown",
      "id": "edb50a1f-bb2f-46aa-b528-ffbe3b059f52",
      "metadata": {
        "id": "edb50a1f-bb2f-46aa-b528-ffbe3b059f52"
      },
      "source": [
        "# DECODING"
      ]
    },
    {
      "cell_type": "code",
      "execution_count": null,
      "id": "b85acfeb-d6ad-4c01-a35c-eff78477957c",
      "metadata": {
        "id": "b85acfeb-d6ad-4c01-a35c-eff78477957c",
        "outputId": "1b46e3e5-0cda-4c56-c08b-2566530c1ef7"
      },
      "outputs": [
        {
          "name": "stdout",
          "output_type": "stream",
          "text": [
            "[72, 101, 108, 108, 111, 32, 87, 270, 108, 100]\n"
          ]
        }
      ],
      "source": [
        "def encode(text):\n",
        "    tokens = list(text.encode(\"utf-8\")) #El texto que le pasamos a la funcion, lo codificamos segun utf-8\n",
        "    while True:      #Vamos a crear un bucle para hacer los merges\n",
        "        stats = get_stats(tokens) #Usamos la funcion get_stats que creamos para ver cuantas veces aparece la secuencia de tokens\n",
        "        pair = min(stats, key=lambda p: merges.get(p, float(\"inf\")))  ##*****\n",
        "        if pair not in merges:\n",
        "            break #no se puede mergear nada más\n",
        "        idx = merges[pair]\n",
        "        tokens = merge(tokens, pair, idx)\n",
        "    return tokens\n",
        "\n",
        "print(encode(\"Hello World\"))"
      ]
    },
    {
      "cell_type": "markdown",
      "id": "af66d970-cb4b-47e3-9cff-067dfc2986b0",
      "metadata": {
        "id": "af66d970-cb4b-47e3-9cff-067dfc2986b0"
      },
      "source": [
        "##*****Cuando aplicamos un min a un diccionario, iteramos sobre las keys del diccionario\n",
        "\n",
        "**get_stats(tokens)** es una función que calcula la frecuencia de pares consecutivos en la lista tokens\n",
        "\n",
        "**pair = min(stats, key=lambda p: merges.get(p, float(\"inf\")))**:\n",
        "Itera sobre todos los pares en stats.\n",
        "\n",
        "Para cada par p, verifica si existe en merge:\n",
        "\n",
        "Si existe, devuelve el valor asociado (merges[]).\n",
        "\n",
        "Si no existe, devuelve float(\"inf\") (infiito).\n",
        "\n",
        "Selecciona el par con el valor más pequeño en merges."
      ]
    },
    {
      "cell_type": "code",
      "execution_count": null,
      "id": "b3945ebf-9296-43b7-a884-5d129216cc61",
      "metadata": {
        "id": "b3945ebf-9296-43b7-a884-5d129216cc61"
      },
      "outputs": [],
      "source": []
    }
  ],
  "metadata": {
    "kernelspec": {
      "display_name": "Python 3 (ipykernel)",
      "language": "python",
      "name": "python3"
    },
    "language_info": {
      "codemirror_mode": {
        "name": "ipython",
        "version": 3
      },
      "file_extension": ".py",
      "mimetype": "text/x-python",
      "name": "python",
      "nbconvert_exporter": "python",
      "pygments_lexer": "ipython3",
      "version": "3.12.4"
    },
    "colab": {
      "provenance": []
    }
  },
  "nbformat": 4,
  "nbformat_minor": 5
}